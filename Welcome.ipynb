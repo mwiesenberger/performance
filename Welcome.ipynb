{
 "cells": [
  {
   "cell_type": "markdown",
   "id": "8d0fd5d5",
   "metadata": {},
   "source": [
    "# Welcome to the Feltor - performance project"
   ]
  },
  {
   "cell_type": "code",
   "execution_count": null,
   "id": "d65369a6",
   "metadata": {},
   "outputs": [],
   "source": []
  }
 ],
 "metadata": {
  "kernelspec": {
   "display_name": "Python 3",
   "language": "python",
   "name": "python3"
  },
  "language_info": {
   "codemirror_mode": {
    "name": "ipython",
    "version": 3
   },
   "file_extension": ".py",
   "mimetype": "text/x-python",
   "name": "python",
   "nbconvert_exporter": "python",
   "pygments_lexer": "ipython3",
   "version": "3.9.7"
  }
 },
 "nbformat": 4,
 "nbformat_minor": 5
}
