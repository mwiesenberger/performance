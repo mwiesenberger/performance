{
 "cells": [
  {
   "cell_type": "markdown",
   "metadata": {},
   "source": [
    "### Check if results are binary correct"
   ]
  },
  {
   "cell_type": "code",
   "execution_count": 1,
   "metadata": {},
   "outputs": [],
   "source": [
    "import numpy as np\n",
    "import pandas as pd"
   ]
  },
  {
   "cell_type": "markdown",
   "metadata": {},
   "source": [
    "First we read in two reference files, one for the intel results, one for the gnu results"
   ]
  },
  {
   "cell_type": "code",
   "execution_count": 2,
   "metadata": {},
   "outputs": [],
   "source": [
    "df_intel = pd.read_csv('benchmark_skl_mpi1.csv', delimiter=' ')\n",
    "df_gnu = pd.read_csv('benchmark_i5.csv', delimiter=' ')"
   ]
  },
  {
   "cell_type": "markdown",
   "metadata": {},
   "source": [
    "the first 32 rows contain all the various matrix and vector sizes"
   ]
  },
  {
   "cell_type": "code",
   "execution_count": 3,
   "metadata": {},
   "outputs": [],
   "source": [
    "values = df_intel[['n','Nx','Ny','exblas_i']].iloc[0:32]\n",
    "values2 = df_gnu[['n','Nx','Ny','exblas_i']].iloc[0:32]"
   ]
  },
  {
   "cell_type": "markdown",
   "metadata": {},
   "source": [
    "Now make a single reference dataframe indexable by n and Nx"
   ]
  },
  {
   "cell_type": "code",
   "execution_count": 4,
   "metadata": {
    "scrolled": true
   },
   "outputs": [],
   "source": [
    "values = values.assign(gnu=values2['exblas_i'].values)\n",
    "values = values.rename(columns={'exblas_i':'intel'})\n",
    "ref = values.set_index(['n','Nx'])"
   ]
  },
  {
   "cell_type": "markdown",
   "metadata": {},
   "source": [
    "Make a dictionary of files and compilertypes that we want to check"
   ]
  },
  {
   "cell_type": "code",
   "execution_count": 5,
   "metadata": {},
   "outputs": [],
   "source": [
    "files = {'knl_mpi1':'intel', 'knl_mpi2':'intel', 'knl_mpi4':'intel',\n",
    "         'skl_mpi1':'intel', 'skl_mpi2':'intel', 'skl_mpi4':'intel',\n",
    "         'p100_mpi1':'gnu', 'p100_mpi2':'gnu', 'p100_mpi4':'gnu',\n",
    "         'v100_mpi1':'gnu', 'v100_mpi2':'gnu', 'v100_mpi4':'gnu',\n",
    "         'i5':'gnu','gtx1060':'gnu'}"
   ]
  },
  {
   "cell_type": "markdown",
   "metadata": {},
   "source": [
    "Now, go through all the files and all rows and compare the result (the exblas_i column) to the \n",
    "corresponding reference value"
   ]
  },
  {
   "cell_type": "code",
   "execution_count": 6,
   "metadata": {},
   "outputs": [
    {
     "name": "stdout",
     "output_type": "stream",
     "text": [
      "Checking skl_mpi1 intel\n",
      "PASSED\n",
      "Checking p100_mpi2 gnu\n",
      "PASSED\n",
      "Checking gtx1060 gnu\n",
      "PASSED\n",
      "Checking i5 gnu\n",
      "PASSED\n",
      "Checking v100_mpi4 gnu\n",
      "PASSED\n",
      "Checking knl_mpi2 intel\n",
      "PASSED\n",
      "Checking p100_mpi1 gnu\n",
      "PASSED\n",
      "Checking knl_mpi1 intel\n",
      "PASSED\n",
      "Checking skl_mpi2 intel\n",
      "PASSED\n",
      "Checking knl_mpi4 intel\n",
      "PASSED\n",
      "Checking v100_mpi2 gnu\n",
      "PASSED\n",
      "Checking skl_mpi4 intel\n",
      "PASSED\n",
      "Checking p100_mpi4 gnu\n",
      "PASSED\n",
      "Checking v100_mpi1 gnu\n",
      "PASSED\n"
     ]
    }
   ],
   "source": [
    "for f,k in files.items():\n",
    "    df=pd.read_csv('benchmark_'+f+'.csv', delimiter=' ')\n",
    "    Passed = True; Err = False\n",
    "    print( \"Checking\", f , k)\n",
    "    for i in df.index: \n",
    "        try:\n",
    "            if df.loc[i,'exblas_i'] != ref.loc[(df.loc[i,'n'],df.loc[i,'Nx']),k] and not pd.isnull(df.loc[i,'exblas_i']):\n",
    "                    Passed = False\n",
    "                    print( \"Wrong result at n = \",df.loc[i,'n'],\" N = \",df.loc[i,'Nx'],\n",
    "                            \" Difference is \", df.loc[i,'exblas_i']-ref.loc[(df.loc[i,'n'],df.loc[i,'Nx']),k])       \n",
    "        except KeyError:\n",
    "            Err = True\n",
    "            continue\n",
    "    if Passed :\n",
    "        print( \"PASSED\")\n",
    "    else:\n",
    "        print( \"FAILED\")\n",
    "        \n",
    "    if Err: \n",
    "        print( \"    There was a Key error\")\n"
   ]
  },
  {
   "cell_type": "code",
   "execution_count": null,
   "metadata": {},
   "outputs": [],
   "source": []
  }
 ],
 "metadata": {
  "kernelspec": {
   "display_name": "Python 3",
   "language": "python",
   "name": "python3"
  },
  "language_info": {
   "codemirror_mode": {
    "name": "ipython",
    "version": 3
   },
   "file_extension": ".py",
   "mimetype": "text/x-python",
   "name": "python",
   "nbconvert_exporter": "python",
   "pygments_lexer": "ipython3",
   "version": "3.5.2"
  }
 },
 "nbformat": 4,
 "nbformat_minor": 2
}
