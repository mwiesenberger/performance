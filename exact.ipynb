{
 "cells": [
  {
   "cell_type": "code",
   "execution_count": 3,
   "metadata": {},
   "outputs": [],
   "source": [
    "import numpy as np\n",
    "import pandas as pd"
   ]
  },
  {
   "cell_type": "code",
   "execution_count": 4,
   "metadata": {},
   "outputs": [],
   "source": [
    "memops = {'scal':2, 'axpby':3, 'pointwiseDot':6, 'dot':2, 'dx':3, 'dy':3,\n",
    "         'arakawa':34, 'cg':42}"
   ]
  },
  {
   "cell_type": "code",
   "execution_count": 8,
   "metadata": {},
   "outputs": [],
   "source": [
    "#read in csv file\n",
    "df_skl = pd.read_csv('benchmark_skl_ampi1.csv', delimiter=' ')\n",
    "df_tesla = pd.read_csv('benchmark_p100_ampi1.csv', delimiter=' ')"
   ]
  },
  {
   "cell_type": "code",
   "execution_count": 27,
   "metadata": {},
   "outputs": [],
   "source": [
    "skl = df_skl[['n','Nx','Ny','exblas_i']].iloc[0:16]"
   ]
  },
  {
   "cell_type": "code",
   "execution_count": 26,
   "metadata": {},
   "outputs": [],
   "source": [
    "tesla = df_tesla[['n','Nx','Ny','exblas_i']].loc[::10]"
   ]
  },
  {
   "cell_type": "code",
   "execution_count": 36,
   "metadata": {
    "scrolled": true
   },
   "outputs": [
    {
     "data": {
      "text/html": [
       "<div>\n",
       "<table border=\"1\" class=\"dataframe\">\n",
       "  <thead>\n",
       "    <tr style=\"text-align: right;\">\n",
       "      <th></th>\n",
       "      <th>n</th>\n",
       "      <th>Nx</th>\n",
       "      <th>Ny</th>\n",
       "      <th>exblas_i</th>\n",
       "      <th>e</th>\n",
       "    </tr>\n",
       "  </thead>\n",
       "  <tbody>\n",
       "    <tr>\n",
       "      <th>0</th>\n",
       "      <td>2</td>\n",
       "      <td>256</td>\n",
       "      <td>256</td>\n",
       "      <td>4.585373e+18</td>\n",
       "      <td>4.585373e+18</td>\n",
       "    </tr>\n",
       "    <tr>\n",
       "      <th>1</th>\n",
       "      <td>2</td>\n",
       "      <td>512</td>\n",
       "      <td>512</td>\n",
       "      <td>4.575913e+18</td>\n",
       "      <td>4.575913e+18</td>\n",
       "    </tr>\n",
       "    <tr>\n",
       "      <th>2</th>\n",
       "      <td>2</td>\n",
       "      <td>1024</td>\n",
       "      <td>1024</td>\n",
       "      <td>4.565913e+18</td>\n",
       "      <td>4.565913e+18</td>\n",
       "    </tr>\n",
       "    <tr>\n",
       "      <th>3</th>\n",
       "      <td>2</td>\n",
       "      <td>2048</td>\n",
       "      <td>2048</td>\n",
       "      <td>4.562117e+18</td>\n",
       "      <td>4.562117e+18</td>\n",
       "    </tr>\n",
       "    <tr>\n",
       "      <th>4</th>\n",
       "      <td>3</td>\n",
       "      <td>256</td>\n",
       "      <td>256</td>\n",
       "      <td>4.441411e+18</td>\n",
       "      <td>4.441411e+18</td>\n",
       "    </tr>\n",
       "    <tr>\n",
       "      <th>5</th>\n",
       "      <td>3</td>\n",
       "      <td>512</td>\n",
       "      <td>512</td>\n",
       "      <td>4.544791e+18</td>\n",
       "      <td>4.544791e+18</td>\n",
       "    </tr>\n",
       "    <tr>\n",
       "      <th>6</th>\n",
       "      <td>3</td>\n",
       "      <td>1024</td>\n",
       "      <td>1024</td>\n",
       "      <td>4.556361e+18</td>\n",
       "      <td>4.556361e+18</td>\n",
       "    </tr>\n",
       "    <tr>\n",
       "      <th>7</th>\n",
       "      <td>3</td>\n",
       "      <td>2048</td>\n",
       "      <td>2048</td>\n",
       "      <td>4.564351e+18</td>\n",
       "      <td>4.564351e+18</td>\n",
       "    </tr>\n",
       "    <tr>\n",
       "      <th>8</th>\n",
       "      <td>4</td>\n",
       "      <td>256</td>\n",
       "      <td>256</td>\n",
       "      <td>4.540592e+18</td>\n",
       "      <td>4.540592e+18</td>\n",
       "    </tr>\n",
       "    <tr>\n",
       "      <th>9</th>\n",
       "      <td>4</td>\n",
       "      <td>512</td>\n",
       "      <td>512</td>\n",
       "      <td>4.552966e+18</td>\n",
       "      <td>4.552966e+18</td>\n",
       "    </tr>\n",
       "    <tr>\n",
       "      <th>10</th>\n",
       "      <td>4</td>\n",
       "      <td>1024</td>\n",
       "      <td>1024</td>\n",
       "      <td>4.563011e+18</td>\n",
       "      <td>4.563011e+18</td>\n",
       "    </tr>\n",
       "    <tr>\n",
       "      <th>11</th>\n",
       "      <td>4</td>\n",
       "      <td>2048</td>\n",
       "      <td>2048</td>\n",
       "      <td>4.566589e+18</td>\n",
       "      <td>4.566589e+18</td>\n",
       "    </tr>\n",
       "    <tr>\n",
       "      <th>12</th>\n",
       "      <td>5</td>\n",
       "      <td>256</td>\n",
       "      <td>256</td>\n",
       "      <td>4.547576e+18</td>\n",
       "      <td>4.553131e+18</td>\n",
       "    </tr>\n",
       "    <tr>\n",
       "      <th>13</th>\n",
       "      <td>5</td>\n",
       "      <td>512</td>\n",
       "      <td>512</td>\n",
       "      <td>4.559305e+18</td>\n",
       "      <td>4.563068e+18</td>\n",
       "    </tr>\n",
       "    <tr>\n",
       "      <th>14</th>\n",
       "      <td>5</td>\n",
       "      <td>1024</td>\n",
       "      <td>1024</td>\n",
       "      <td>4.565370e+18</td>\n",
       "      <td>4.566614e+18</td>\n",
       "    </tr>\n",
       "    <tr>\n",
       "      <th>15</th>\n",
       "      <td>5</td>\n",
       "      <td>2048</td>\n",
       "      <td>2048</td>\n",
       "      <td>4.567086e+18</td>\n",
       "      <td>NaN</td>\n",
       "    </tr>\n",
       "  </tbody>\n",
       "</table>\n",
       "</div>"
      ],
      "text/plain": [
       "    n    Nx    Ny      exblas_i             e\n",
       "0   2   256   256  4.585373e+18  4.585373e+18\n",
       "1   2   512   512  4.575913e+18  4.575913e+18\n",
       "2   2  1024  1024  4.565913e+18  4.565913e+18\n",
       "3   2  2048  2048  4.562117e+18  4.562117e+18\n",
       "4   3   256   256  4.441411e+18  4.441411e+18\n",
       "5   3   512   512  4.544791e+18  4.544791e+18\n",
       "6   3  1024  1024  4.556361e+18  4.556361e+18\n",
       "7   3  2048  2048  4.564351e+18  4.564351e+18\n",
       "8   4   256   256  4.540592e+18  4.540592e+18\n",
       "9   4   512   512  4.552966e+18  4.552966e+18\n",
       "10  4  1024  1024  4.563011e+18  4.563011e+18\n",
       "11  4  2048  2048  4.566589e+18  4.566589e+18\n",
       "12  5   256   256  4.547576e+18  4.553131e+18\n",
       "13  5   512   512  4.559305e+18  4.563068e+18\n",
       "14  5  1024  1024  4.565370e+18  4.566614e+18\n",
       "15  5  2048  2048  4.567086e+18           NaN"
      ]
     },
     "execution_count": 36,
     "metadata": {},
     "output_type": "execute_result"
    }
   ],
   "source": [
    "skl.assign(e=tesla['exblas_i'].values)"
   ]
  },
  {
   "cell_type": "code",
   "execution_count": 33,
   "metadata": {},
   "outputs": [
    {
     "data": {
      "text/plain": [
       "array([  4.58537280e+18,   4.57591274e+18,   4.56591348e+18,\n",
       "         4.56211678e+18,   4.44141102e+18,   4.54479062e+18,\n",
       "         4.55636083e+18,   4.56435073e+18,   4.54059195e+18,\n",
       "         4.55296568e+18,   4.56301075e+18,   4.56658881e+18,\n",
       "         4.55313074e+18,   4.56306785e+18,   4.56661373e+18,\n",
       "                    nan])"
      ]
     },
     "execution_count": 33,
     "metadata": {},
     "output_type": "execute_result"
    }
   ],
   "source": [
    "tesla['exblas_i'].values"
   ]
  },
  {
   "cell_type": "code",
   "execution_count": null,
   "metadata": {},
   "outputs": [],
   "source": []
  }
 ],
 "metadata": {
  "kernelspec": {
   "display_name": "Python 3",
   "language": "python",
   "name": "python3"
  },
  "language_info": {
   "codemirror_mode": {
    "name": "ipython",
    "version": 3
   },
   "file_extension": ".py",
   "mimetype": "text/x-python",
   "name": "python",
   "nbconvert_exporter": "python",
   "pygments_lexer": "ipython3",
   "version": "3.5.2"
  }
 },
 "nbformat": 4,
 "nbformat_minor": 2
}
