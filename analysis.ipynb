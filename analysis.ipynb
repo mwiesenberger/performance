{
 "cells": [
  {
   "cell_type": "code",
   "execution_count": 53,
   "metadata": {},
   "outputs": [],
   "source": [
    "import numpy as np\n",
    "import pandas as pd\n",
    "import matplotlib.pyplot as plt"
   ]
  },
  {
   "cell_type": "code",
   "execution_count": 54,
   "metadata": {},
   "outputs": [],
   "source": [
    "memops = {'scal':2, 'axpby':3, 'pointwiseDot':6, 'dot':2, 'dx':3, 'dy':3,\n",
    "         'arakawa':34, 'cg':42}"
   ]
  },
  {
   "cell_type": "code",
   "execution_count": 55,
   "metadata": {
    "scrolled": true
   },
   "outputs": [],
   "source": [
    "#read in csv file\n",
    "df1 = pd.read_csv('benchmark_v100_mpi4.csv', delimiter=' ')\n",
    "#add size and get rid of non-relevant columns\n",
    "df1.insert(0,'size', 8*df1['n']*df1['n']*df1['Nx']*df1['Ny']/1e6)\n",
    "for name, mem in memops.items():\n",
    "    df1[name] = df1['size']/1000*mem/df1[name]\n",
    "dfr = df1[['n','Nx','Ny','size']+list(memops.keys())]\n",
    "#dfr"
   ]
  },
  {
   "cell_type": "code",
   "execution_count": 56,
   "metadata": {},
   "outputs": [],
   "source": [
    "#compute mean and standard derivation of 'same' groups \n",
    "dfr=dfr.groupby(['n', 'Nx','Ny','size']).agg(['mean', 'std'])\n",
    "dfr=dfr.reset_index(level=['n','Nx','Ny','size'])"
   ]
  },
  {
   "cell_type": "code",
   "execution_count": 57,
   "metadata": {},
   "outputs": [],
   "source": [
    "#dfr['dy'].plot()"
   ]
  },
  {
   "cell_type": "code",
   "execution_count": 58,
   "metadata": {},
   "outputs": [],
   "source": [
    "base_bandwidth = dfr[('axpby','mean')].iloc[15] # base bandwidth at 3 2048 2048 \n",
    "for name, mem in memops.items():\n",
    "    dfr[(name,'eff')]= dfr[(name,'mean')]/base_bandwidth\n",
    "    dfr[(name,'eff_err')]=dfr[(name,'std')]/base_bandwidth\n",
    "#now display all bandwidth results"
   ]
  },
  {
   "cell_type": "code",
   "execution_count": 59,
   "metadata": {},
   "outputs": [],
   "source": [
    "cols=[(m,'eff') for m in memops.keys()]\n",
    "efficiency=dfr[['n','Nx','Ny','size']].join( dfr[cols])\n",
    "cols=[(m,'eff_err') for m in memops.keys()]\n",
    "efficiency=efficiency.join( dfr[cols])\n",
    "#dfr=dfr.sort_values(by='size')\n",
    "#efficiency=efficiency.set_index('size')"
   ]
  },
  {
   "cell_type": "code",
   "execution_count": 60,
   "metadata": {},
   "outputs": [],
   "source": [
    "pd.set_option('precision',2)\n",
    "efficiency=efficiency.sort_values(by='size')\n",
    "#efficiency.loc[:,'size']\n",
    "#efficiency['axpby']"
   ]
  },
  {
   "cell_type": "code",
   "execution_count": 61,
   "metadata": {},
   "outputs": [
    {
     "data": {
      "text/plain": [
       "<matplotlib.legend.Legend at 0x7f157f811400>"
      ]
     },
     "execution_count": 61,
     "metadata": {},
     "output_type": "execute_result"
    },
    {
     "data": {
      "text/plain": [
       "<matplotlib.figure.Figure at 0x7f157f85a4a8>"
      ]
     },
     "metadata": {},
     "output_type": "display_data"
    },
    {
     "data": {
      "image/png": "[encoded data removed]",
      "text/plain": [
       "<matplotlib.figure.Figure at 0x7f157f85af98>"
      ]
     },
     "metadata": {},
     "output_type": "display_data"
    }
   ],
   "source": [
    "fig=plt.figure()\n",
    "ax = efficiency['dy'].plot(style='ro',x=efficiency.loc[:,'size'],y='eff',yerr='eff_err')\n",
    "ax = efficiency['dx'].plot(style='ro',x=efficiency.loc[:,'size'],y='eff',yerr='eff_err',ax=ax)\n",
    "ax = efficiency['dot'].plot(style='ro',x=efficiency.loc[:,'size'],y='eff',yerr='eff_err',ax=ax)\n",
    "plt.xscale('log')\n",
    "plt.yscale('log')\n",
    "ax.legend(['dy','dx','dot'])"
   ]
  },
  {
   "cell_type": "code",
   "execution_count": 62,
   "metadata": {},
   "outputs": [
    {
     "name": "stderr",
     "output_type": "stream",
     "text": [
      "/usr/local/lib/python3.5/dist-packages/pandas/plotting/_core.py:1716: UserWarning: Pandas doesn't allow columns to be created via a new attribute name - see https://pandas.pydata.org/pandas-docs/stable/indexing.html#attribute-access\n",
      "  series.name = label\n"
     ]
    },
    {
     "data": {
      "text/plain": [
       "<matplotlib.figure.Figure at 0x7f157f77f908>"
      ]
     },
     "metadata": {},
     "output_type": "display_data"
    },
    {
     "data": {
      "image/png": "[encoded data removed]",
      "text/plain": [
       "<matplotlib.figure.Figure at 0x7f157f6e45c0>"
      ]
     },
     "metadata": {},
     "output_type": "display_data"
    },
    {
     "data": {
      "text/plain": [
       "3351.099208213509"
      ]
     },
     "execution_count": 62,
     "metadata": {},
     "output_type": "execute_result"
    }
   ],
   "source": [
    "fig=plt.figure()\n",
    "plotlist = [('dy','eff')]\n",
    "stylelist = ['ro','bo','go','yo']\n",
    "#efficiency.iloc[8:24].plot(x=('size',''),y=[('cg','eff'),('arakawa','eff')],style=['ro','bo'],logx=True)\n",
    "ax = efficiency.iloc[0:8].plot(    x=('Nx',''),y=plotlist,style=stylelist[0])\n",
    "efficiency.iloc[8:16].plot(ax=ax,  x=('Nx',''),y=plotlist,style=stylelist[1])\n",
    "efficiency.iloc[16:24].plot(ax=ax, x=('Nx',''),y=plotlist,style=stylelist[2])\n",
    "efficiency.iloc[24:32].plot(ax=ax, x=('Nx',''),y=plotlist,style=stylelist[3])\n",
    "#plt.loglog()\n",
    "plt.title('dot')\n",
    "plt.xscale('log')\n",
    "plt.ylabel('efficiency')\n",
    "plt.xlabel('size')\n",
    "plt.legend(['n=2','n=3','n=4','n=5'])\n",
    "plt.show()\n",
    "base_bandwidth"
   ]
  },
  {
   "cell_type": "code",
   "execution_count": null,
   "metadata": {},
   "outputs": [],
   "source": []
  }
 ],
 "metadata": {
  "kernelspec": {
   "display_name": "Python 3",
   "language": "python",
   "name": "python3"
  },
  "language_info": {
   "codemirror_mode": {
    "name": "ipython",
    "version": 3
   },
   "file_extension": ".py",
   "mimetype": "text/x-python",
   "name": "python",
   "nbconvert_exporter": "python",
   "pygments_lexer": "ipython3",
   "version": "3.5.2"
  }
 },
 "nbformat": 4,
 "nbformat_minor": 2
}
